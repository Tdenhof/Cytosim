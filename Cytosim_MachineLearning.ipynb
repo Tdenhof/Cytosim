{
  "nbformat": 4,
  "nbformat_minor": 0,
  "metadata": {
    "colab": {
      "name": "Cytosim_MachineLearning.ipynb",
      "provenance": [],
      "authorship_tag": "ABX9TyOCjY3tSM6z8I0AdAe2ThLf",
      "include_colab_link": true
    },
    "kernelspec": {
      "name": "python3",
      "display_name": "Python 3"
    },
    "language_info": {
      "name": "python"
    }
  },
  "cells": [
    {
      "cell_type": "markdown",
      "metadata": {
        "id": "view-in-github",
        "colab_type": "text"
      },
      "source": [
        "<a href=\"https://colab.research.google.com/github/Tdenhof/Cytosim/blob/main/Cytosim_MachineLearning.ipynb\" target=\"_parent\"><img src=\"https://colab.research.google.com/assets/colab-badge.svg\" alt=\"Open In Colab\"/></a>"
      ]
    },
    {
      "cell_type": "code",
      "execution_count": 1,
      "metadata": {
        "id": "AO0wdKn7ohZx",
        "colab": {
          "base_uri": "https://localhost:8080/"
        },
        "outputId": "c135193a-8252-48e8-8660-6f5f66ca0d83"
      },
      "outputs": [
        {
          "output_type": "stream",
          "name": "stdout",
          "text": [
            "Setup complete. Using torch 1.11.0+cu113 (CPU)\n"
          ]
        }
      ],
      "source": [
        "!git clone https://github.com/ultralytics/yolov5  # clone repo\n",
        "!git clone https://github.com/Tdenhof/Cytosim.git\n",
        "%cd yolov5\n",
        "%pip install -qr requirements.txt  # install dependencies\n",
        "\n",
        "import torch\n",
        "from IPython.display import Image, clear_output  # to display images\n",
        "\n",
        "clear_output()\n",
        "print(f\"Setup complete. Using torch {torch.__version__} ({torch.cuda.get_device_properties(0).name if torch.cuda.is_available() else 'CPU'})\")"
      ]
    },
    {
      "cell_type": "code",
      "source": [
        "%cd /content/Cytosim/Machine Learning"
      ],
      "metadata": {
        "colab": {
          "base_uri": "https://localhost:8080/"
        },
        "id": "3UB9YgknqvYW",
        "outputId": "b3860cb9-db0e-4788-cf5b-04a5ba2090de"
      },
      "execution_count": 2,
      "outputs": [
        {
          "output_type": "stream",
          "name": "stdout",
          "text": [
            "/content/Cytosim/Machine Learning\n"
          ]
        }
      ]
    },
    {
      "cell_type": "markdown",
      "source": [
        "# Detection\n"
      ],
      "metadata": {
        "id": "IoTPSSwvrgU5"
      }
    },
    {
      "cell_type": "code",
      "source": [
        "# To Detect From Files... \n",
        "# Conf interval default at 0.5\n",
        "# --Name = Folder Name of Detection Results \n",
        "# --Project = Directory Location of detection results \n",
        "# --Source = Source File on which you would like to detect on... png or mp4 accepted\n",
        "# DONT CHANGE WEIGHTS\n",
        "# REMOVE '#' from line below and run cell \n",
        "\n",
        "#! python detect.py --weights /content/Cytosim/Machine Learning/trained_model/weights/best.pt --imgsz 640 --conf 0.5 --name 'NAME' --project DIRECTORY --source SOURCE"
      ],
      "metadata": {
        "id": "j5wq8cz_rbwb"
      },
      "execution_count": 5,
      "outputs": []
    }
  ]
}